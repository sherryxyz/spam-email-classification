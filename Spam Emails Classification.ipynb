{
 "cells": [
  {
   "cell_type": "markdown",
   "id": "c107d9b8",
   "metadata": {},
   "source": [
    "# spam vs. non-spam emails"
   ]
  },
  {
   "cell_type": "markdown",
   "id": "d9fa8b7b",
   "metadata": {},
   "source": [
    "## I. Problem Statement  <a name=\"objective\"></a>\n",
    "\n",
    "To determine whether email is spam or non-spam email based on the email characteristics that are given.\n",
    "\n",
    "**Objectives**\n",
    "1. Build the classification model with best predictive accuracy\n",
    "2. Build the best cost-sensitive classification model"
   ]
  },
  {
   "cell_type": "markdown",
   "id": "86bb114f",
   "metadata": {},
   "source": [
    "## II. Data Information\n",
    "\n",
    "**[Data Source](http://archive.ics.uci.edu/ml/datasets/Spambase)**\n",
    "\n",
    "\n",
    "Specifically, the file “spambase.data” contains the actual data, and files “spambase.names” and “spambase.DOCUMENTATION” contain the description of the data. This dataset has 4601 records, each record representing a different email message. Each record is described with 58 attributes (indicated in the aforementioned .names file): attributes 1-57 represent various content-based characteristics already extracted from each email message (related to the frequency of certain words or certain punctuation symbols in a message as well as to the usage of capital letters in a message), and the last attribute represents the class label for each message (spam or non-spam)."
   ]
  },
  {
   "cell_type": "code",
   "execution_count": 704,
   "id": "635f9bfc",
   "metadata": {},
   "outputs": [],
   "source": [
    "# Load packages\n",
    "import pandas as pd\n",
    "import numpy as np\n",
    "from sklearn.model_selection import train_test_split\n",
    "from sklearn import linear_model\n",
    "from sklearn.model_selection import cross_val_predict\n",
    "import matplotlib.pyplot as plt\n",
    "import math\n",
    "from sklearn.neighbors import KNeighborsRegressor\n",
    "from sklearn.model_selection import GridSearchCV, cross_val_score, KFold\n",
    "from sklearn.model_selection import RandomizedSearchCV\n",
    "from sklearn.metrics import mean_absolute_error\n",
    "from sklearn.metrics import mean_squared_error\n",
    "from math import sqrt\n",
    "from sklearn.tree import DecisionTreeRegressor\n",
    "from sklearn.pipeline import Pipeline\n",
    "from sklearn.svm import SVR\n",
    "from sklearn.ensemble import RandomForestRegressor\n",
    "from sklearn.ensemble import HistGradientBoostingRegressor\n",
    "from sklearn.neighbors import KNeighborsClassifier\n",
    "from sklearn.tree import DecisionTreeClassifier\n",
    "from sklearn import tree\n",
    "from sklearn import neighbors, datasets\n",
    "from sklearn import linear_model\n",
    "from sklearn.svm import SVC\n",
    "from sklearn.metrics import roc_auc_score\n",
    "from sklearn.metrics import recall_score\n",
    "from sklearn.preprocessing import StandardScaler\n",
    "from sklearn import svm\n",
    "from sklearn.ensemble import RandomForestClassifier\n",
    "from sklearn.metrics import confusion_matrix\n",
    "from sklearn.metrics import classification_report\n",
    "from sklearn.metrics import accuracy_score\n",
    "from sklearn.metrics import precision_score\n",
    "import matplotlib.pyplot as plt\n",
    "from sklearn.datasets import make_classification\n",
    "from scikeras.wrappers import KerasClassifier, KerasRegressor\n",
    "from sklearn.neural_network import MLPRegressor, MLPClassifier\n",
    "import seaborn as sns\n",
    "\n",
    "\n",
    "import warnings\n",
    "warnings.filterwarnings('ignore')"
   ]
  },
  {
   "cell_type": "code",
   "execution_count": 93,
   "id": "c40e0c28",
   "metadata": {},
   "outputs": [],
   "source": [
    "# Load data\n",
    "spam_base = pd.read_csv('spambase.data', sep=\",\", header = None, \n",
    "                             names = ['wf_make', 'wf_address', 'wf_all', 'wf_3d', 'wf_our', 'wf_over', 'wf_remove',\n",
    "                                      'wf_internet','wf_order', 'wf_mail', 'wf_receive', 'wf_will', 'wf_people',\n",
    "                                      'wf_report', 'wf_addresses', 'wf_free', 'wf_business','wf_email','wf_you',\n",
    "                                      'wf_credit', 'wf_your', 'wf_font','wf_000', 'wf_money', 'wf_hp', 'wf_hpl', \n",
    "                                      'wf_george', 'wf_650','wf_lab','wf_labs','wf_telnet', 'wf_857', 'wf_data',\n",
    "                                      'wf_415', 'wf_85', 'wf_technology', 'wf_1999', 'wf_parts', 'wf_pm', 'wf_direct',\n",
    "                                      'wf_cs', 'wf_meeting','wf_original','wf_project','wf_re', 'wf_edu', 'wf_table',\n",
    "                                      'wf_conference', 'cf_semicolon','cf_parenthesis','cf_bracket', 'cf_exc','cf_dollar','cf_pound',\n",
    "                                      'cr_avg', 'cr_longest','cr_tota','spam_class'])"
   ]
  },
  {
   "cell_type": "markdown",
   "id": "9209f729",
   "metadata": {},
   "source": [
    "### III. Data Exploration"
   ]
  },
  {
   "cell_type": "code",
   "execution_count": 94,
   "id": "bd2709f2",
   "metadata": {},
   "outputs": [
    {
     "data": {
      "text/plain": [
       "(4601, 58)"
      ]
     },
     "execution_count": 94,
     "metadata": {},
     "output_type": "execute_result"
    }
   ],
   "source": [
    "# check the number of columns and rows for the dataset\n",
    "spam_base.shape"
   ]
  },
  {
   "cell_type": "code",
   "execution_count": 95,
   "id": "8c19780c",
   "metadata": {},
   "outputs": [
    {
     "name": "stdout",
     "output_type": "stream",
     "text": [
      "<class 'pandas.core.frame.DataFrame'>\n",
      "RangeIndex: 4601 entries, 0 to 4600\n",
      "Data columns (total 58 columns):\n",
      " #   Column          Non-Null Count  Dtype  \n",
      "---  ------          --------------  -----  \n",
      " 0   wf_make         4601 non-null   float64\n",
      " 1   wf_address      4601 non-null   float64\n",
      " 2   wf_all          4601 non-null   float64\n",
      " 3   wf_3d           4601 non-null   float64\n",
      " 4   wf_our          4601 non-null   float64\n",
      " 5   wf_over         4601 non-null   float64\n",
      " 6   wf_remove       4601 non-null   float64\n",
      " 7   wf_internet     4601 non-null   float64\n",
      " 8   wf_order        4601 non-null   float64\n",
      " 9   wf_mail         4601 non-null   float64\n",
      " 10  wf_receive      4601 non-null   float64\n",
      " 11  wf_will         4601 non-null   float64\n",
      " 12  wf_people       4601 non-null   float64\n",
      " 13  wf_report       4601 non-null   float64\n",
      " 14  wf_addresses    4601 non-null   float64\n",
      " 15  wf_free         4601 non-null   float64\n",
      " 16  wf_business     4601 non-null   float64\n",
      " 17  wf_email        4601 non-null   float64\n",
      " 18  wf_you          4601 non-null   float64\n",
      " 19  wf_credit       4601 non-null   float64\n",
      " 20  wf_your         4601 non-null   float64\n",
      " 21  wf_font         4601 non-null   float64\n",
      " 22  wf_000          4601 non-null   float64\n",
      " 23  wf_money        4601 non-null   float64\n",
      " 24  wf_hp           4601 non-null   float64\n",
      " 25  wf_hpl          4601 non-null   float64\n",
      " 26  wf_george       4601 non-null   float64\n",
      " 27  wf_650          4601 non-null   float64\n",
      " 28  wf_lab          4601 non-null   float64\n",
      " 29  wf_labs         4601 non-null   float64\n",
      " 30  wf_telnet       4601 non-null   float64\n",
      " 31  wf_857          4601 non-null   float64\n",
      " 32  wf_data         4601 non-null   float64\n",
      " 33  wf_415          4601 non-null   float64\n",
      " 34  wf_85           4601 non-null   float64\n",
      " 35  wf_technology   4601 non-null   float64\n",
      " 36  wf_1999         4601 non-null   float64\n",
      " 37  wf_parts        4601 non-null   float64\n",
      " 38  wf_pm           4601 non-null   float64\n",
      " 39  wf_direct       4601 non-null   float64\n",
      " 40  wf_cs           4601 non-null   float64\n",
      " 41  wf_meeting      4601 non-null   float64\n",
      " 42  wf_original     4601 non-null   float64\n",
      " 43  wf_project      4601 non-null   float64\n",
      " 44  wf_re           4601 non-null   float64\n",
      " 45  wf_edu          4601 non-null   float64\n",
      " 46  wf_table        4601 non-null   float64\n",
      " 47  wf_conference   4601 non-null   float64\n",
      " 48  cf_semicolon    4601 non-null   float64\n",
      " 49  cf_parenthesis  4601 non-null   float64\n",
      " 50  cf_bracket      4601 non-null   float64\n",
      " 51  cf_exc          4601 non-null   float64\n",
      " 52  cf_dollar       4601 non-null   float64\n",
      " 53  cf_pound        4601 non-null   float64\n",
      " 54  cr_avg          4601 non-null   float64\n",
      " 55  cr_longest      4601 non-null   int64  \n",
      " 56  cr_tota         4601 non-null   int64  \n",
      " 57  spam_class      4601 non-null   int64  \n",
      "dtypes: float64(55), int64(3)\n",
      "memory usage: 2.0 MB\n"
     ]
    }
   ],
   "source": [
    "# All continous numeric data\n",
    "spam_base.info()"
   ]
  },
  {
   "cell_type": "code",
   "execution_count": 96,
   "id": "64cfb236",
   "metadata": {},
   "outputs": [
    {
     "data": {
      "text/plain": [
       "spam_class\n",
       "0    2788\n",
       "1    1813\n",
       "Name: spam_class, dtype: int64"
      ]
     },
     "execution_count": 96,
     "metadata": {},
     "output_type": "execute_result"
    }
   ],
   "source": [
    "spam_base.groupby(['spam_class'])['spam_class'].count()"
   ]
  },
  {
   "cell_type": "markdown",
   "id": "e4c418b5",
   "metadata": {},
   "source": [
    "**Data Exploration:**\n",
    "\n",
    "Observing the dataset, there are 57 attributes and all are continuous data, and the target variable is spam_class where 0 indicates not spam, and 1 indicates spam. The ratio between class 1 : class 0 is 0.65, which is a little imbalance. Thus, class_Weight = balanced is used to deal with this situation.\n",
    "\n",
    "The objective of the problem is to determine whether an email is spam or not. Thus, this is a classification problem. \n",
    "\n",
    "In addition, the cost ratio is 10:1 and in this scenario, it is more harmful to misclassify an spam email as normal email as spam emails may contain virus or scam and can hurt receivers or organizations badly, and it is less harmful to misclassify an normal email as spam as people can still check the spam box to look for the email if they know an email is not spam. \n",
    "\n",
    "Thus, the cost for false negative is 10 and cost for false positive is 1. (Positive means it's spam (1), and negative means it's not spam (0)). \n",
    "\n",
    "**Data Prepartion**\n",
    "\n",
    "X (attributes) and y(spam class) have been break out from the dataset.\n",
    "\n",
    "Then, data are slipted data into training and testing with test size of 0.2.\n",
    "\n",
    "\n",
    "\n",
    "**Model Selection:**\n",
    "\n",
    "I first used Accuracy as the measurement metrics to select the best model, and then used the average misclassification cost for find the best cost-sensitive model. Models that were tried are logistics regression, Decision Tree, KNN, SVM, neural network (MLPClassifier) and ensemble model (Regression Tree). \n",
    "\n",
    "For each model, multiple hyper-parameters were set. In order to find the best model. I used nested cross validation and KFold with n_splits = 5. \n",
    "\n",
    "It is also worth to mention that all attributes are continuous data, thus data needs to be normalized for models: logistics regression, KNN, and SVM. Therefore, pipeline has been built for these data to normalize data while avoid data leakage.\n",
    "\n",
    "By comparing the mean score of each model, the model with best mean score is chosen for model evaluation.\n",
    "\n",
    "\n",
    "**Hyper-parameter tuning and model evaluation:**\n",
    "\n",
    "To optimize hyper-parameter and evaluate the chosen model, I used the Grid Search cross validation and evaluate its performance.\n",
    "\n",
    "More details of the model performance are listed at the end of each models"
   ]
  },
  {
   "cell_type": "markdown",
   "id": "bbd1dfea",
   "metadata": {},
   "source": [
    "### IIII. Data Preparation"
   ]
  },
  {
   "cell_type": "code",
   "execution_count": 97,
   "id": "c7af8390",
   "metadata": {},
   "outputs": [],
   "source": [
    "# define dataset\n",
    "Xs = spam_base.iloc[:, :56]\n",
    "ys = spam_base['spam_class']"
   ]
  },
  {
   "cell_type": "code",
   "execution_count": 98,
   "id": "7cba66c4",
   "metadata": {},
   "outputs": [],
   "source": [
    "# Split data into training and testing\n",
    "Xs_train, Xs_test, ys_train, ys_test = train_test_split(Xs,ys, test_size=0.2, random_state = 32)"
   ]
  },
  {
   "cell_type": "code",
   "execution_count": 99,
   "id": "2702bf18",
   "metadata": {},
   "outputs": [],
   "source": [
    "# Model comparison with nested CV\n",
    "inner_cv = KFold(n_splits=5, shuffle=True, random_state=6)\n",
    "outer_cv = KFold(n_splits=5, shuffle=True, random_state=7)\n",
    "scoring = 'accuracy'"
   ]
  },
  {
   "cell_type": "markdown",
   "id": "07cd0dee",
   "metadata": {},
   "source": [
    "### V. Model"
   ]
  },
  {
   "cell_type": "markdown",
   "id": "7e455d3a",
   "metadata": {},
   "source": [
    "### Objective 1. Best predictive accuracy model"
   ]
  },
  {
   "cell_type": "markdown",
   "id": "b7255a0b",
   "metadata": {},
   "source": [
    "#### 5.1.1 Model Selection"
   ]
  },
  {
   "cell_type": "markdown",
   "id": "290b5fc5",
   "metadata": {},
   "source": [
    "#### Logistic Regression"
   ]
  },
  {
   "cell_type": "code",
   "execution_count": 204,
   "id": "599afb18",
   "metadata": {},
   "outputs": [],
   "source": [
    "# set up the logistic regression model and the different hyper parameters\n",
    "lr_grid = {'C':[0.001, 0.01, 0.1, 1, 10, 100, 1000],\n",
    "        'penalty':['l1','l2', 'none']}\n",
    "lr = linear_model.LogisticRegression(class_weight = 'balanced') "
   ]
  },
  {
   "cell_type": "code",
   "execution_count": 205,
   "id": "246cc297",
   "metadata": {},
   "outputs": [],
   "source": [
    "# Non_nested parameter search and scoring\n",
    "lr_clf= GridSearchCV(estimator=lr, param_grid=lr_grid, scoring=scoring, cv=inner_cv)"
   ]
  },
  {
   "cell_type": "code",
   "execution_count": 206,
   "id": "d02a1658",
   "metadata": {},
   "outputs": [],
   "source": [
    "# define the pipeline for normalization and avoid data leakage\n",
    "steps = list()\n",
    "steps.append(('scaler', StandardScaler()))\n",
    "steps.append(('model', lr_clf))\n",
    "pipeline = Pipeline(steps=steps)"
   ]
  },
  {
   "cell_type": "code",
   "execution_count": 207,
   "id": "8b4827a0",
   "metadata": {},
   "outputs": [
    {
     "data": {
      "text/plain": [
       "0.9271739130434783"
      ]
     },
     "execution_count": 207,
     "metadata": {},
     "output_type": "execute_result"
    }
   ],
   "source": [
    "# Nested CV with parameter optimization \n",
    "lr_score = cross_val_score(pipeline, Xs_train, y=ys_train, cv=outer_cv)\n",
    "lr_score.mean()"
   ]
  },
  {
   "cell_type": "markdown",
   "id": "63bd251c",
   "metadata": {},
   "source": [
    "Running Logistic Regression, we get the mean accuaracy of 0.927"
   ]
  },
  {
   "cell_type": "markdown",
   "id": "d78ae24c",
   "metadata": {},
   "source": [
    "#### Decision Tree"
   ]
  },
  {
   "cell_type": "code",
   "execution_count": 201,
   "id": "ce3b17b2",
   "metadata": {},
   "outputs": [],
   "source": [
    "# set up the decision tree model and the different hyper parameters\n",
    "dt = DecisionTreeClassifier(class_weight = 'balanced')\n",
    "\n",
    "dt_grid = {\n",
    "        'max_depth':list(range(1,16)),\n",
    "        'min_samples_leaf': [5, 10, 15],\n",
    "        'criterion': [\"gini\", \"entropy\"]\n",
    "}"
   ]
  },
  {
   "cell_type": "code",
   "execution_count": 202,
   "id": "7f3b6c0c",
   "metadata": {},
   "outputs": [],
   "source": [
    "# Non_nested parameter search and scoring\n",
    "dt_clf = GridSearchCV(estimator=dt, param_grid=dt_grid, scoring = scoring, cv=inner_cv)"
   ]
  },
  {
   "cell_type": "code",
   "execution_count": 203,
   "id": "64f39d43",
   "metadata": {},
   "outputs": [
    {
     "data": {
      "text/plain": [
       "0.9184782608695652"
      ]
     },
     "execution_count": 203,
     "metadata": {},
     "output_type": "execute_result"
    }
   ],
   "source": [
    "# Nested CV with parameter optimization\n",
    "dt_score = cross_val_score(dt_clf, X=Xs_train, y=ys_train, cv=outer_cv)\n",
    "dt_score\n",
    "dt_score.mean()"
   ]
  },
  {
   "cell_type": "markdown",
   "id": "3eede09a",
   "metadata": {},
   "source": [
    "From the decesion tree model, we get a mean accuracy of 0.918"
   ]
  },
  {
   "cell_type": "markdown",
   "id": "68af2bc3",
   "metadata": {},
   "source": [
    "#### KNN"
   ]
  },
  {
   "cell_type": "code",
   "execution_count": 107,
   "id": "d3378cfd",
   "metadata": {},
   "outputs": [],
   "source": [
    "# set up the knn model and the different hyper parameters\n",
    "k_range = list(range(1,31))\n",
    "weight_options = [\"uniform\", \"distance\"]\n",
    "knn_grid = dict(n_neighbors = k_range, weights = weight_options)\n",
    "\n",
    "knn = KNeighborsClassifier()"
   ]
  },
  {
   "cell_type": "code",
   "execution_count": 108,
   "id": "dba76915",
   "metadata": {},
   "outputs": [],
   "source": [
    "# Non_nested parameter search and scoring\n",
    "knn_clf =  GridSearchCV(estimator=knn, param_grid=knn_grid, scoring = scoring, cv=inner_cv)"
   ]
  },
  {
   "cell_type": "code",
   "execution_count": 109,
   "id": "96854e69",
   "metadata": {},
   "outputs": [],
   "source": [
    "# define the pipeline for normalization and avoid data leakage\n",
    "steps = list()\n",
    "steps.append(('scaler', StandardScaler()))\n",
    "steps.append(('model', knn_clf))\n",
    "pipeline = Pipeline(steps=steps)"
   ]
  },
  {
   "cell_type": "code",
   "execution_count": 110,
   "id": "12a507cf",
   "metadata": {},
   "outputs": [
    {
     "data": {
      "text/plain": [
       "0.9168478260869565"
      ]
     },
     "execution_count": 110,
     "metadata": {},
     "output_type": "execute_result"
    }
   ],
   "source": [
    "# Nested CV with parameter optimization \n",
    "knn_score = cross_val_score(pipeline, X=Xs_train, y=ys_train, cv=outer_cv)\n",
    "knn_score.mean()"
   ]
  },
  {
   "cell_type": "markdown",
   "id": "73afc466",
   "metadata": {},
   "source": [
    "Running Logistic Regression, we get the mean accuracy of 0.917"
   ]
  },
  {
   "cell_type": "markdown",
   "id": "85826e1b",
   "metadata": {},
   "source": [
    "#### SVM"
   ]
  },
  {
   "cell_type": "code",
   "execution_count": 111,
   "id": "db1a6e0c",
   "metadata": {},
   "outputs": [],
   "source": [
    "# set up the svm model and the different hyper parameters\n",
    "svm_grid = [{'kernel': ['rbf'], 'gamma': [1e2, 1e1, 1, 1e-2, 1e-3, 1e-4],\n",
    "                     'C': [1, 10, 100, 1000]},\n",
    "                    {'kernel': ['linear'], 'C': [1, 10, 100, 1000]}]\n",
    "\n",
    "svm = SVC(class_weight = 'balanced')"
   ]
  },
  {
   "cell_type": "code",
   "execution_count": 112,
   "id": "2347a4e2",
   "metadata": {},
   "outputs": [],
   "source": [
    "# using randomizedSearchCV for hyper parameter tuning \n",
    "svm_clf = RandomizedSearchCV(estimator=svm, param_distributions=svm_grid, n_iter = 6, \n",
    "                             random_state=12, scoring =  scoring, cv=inner_cv)"
   ]
  },
  {
   "cell_type": "code",
   "execution_count": 113,
   "id": "bb4c7205",
   "metadata": {},
   "outputs": [],
   "source": [
    "# define the pipeline for normalization and avoid data leakage\n",
    "steps = list()\n",
    "steps.append(('scaler', StandardScaler()))\n",
    "steps.append(('model', svm_clf))\n",
    "pipeline = Pipeline(steps=steps)"
   ]
  },
  {
   "cell_type": "code",
   "execution_count": 114,
   "id": "50aff9ae",
   "metadata": {},
   "outputs": [
    {
     "data": {
      "text/plain": [
       "0.9320652173913043"
      ]
     },
     "execution_count": 114,
     "metadata": {},
     "output_type": "execute_result"
    }
   ],
   "source": [
    "# Nested CV with parameter optimization \n",
    "svm_score = cross_val_score(pipeline, Xs_train, y=ys_train, cv=outer_cv)\n",
    "svm_score.mean() "
   ]
  },
  {
   "cell_type": "markdown",
   "id": "39376855",
   "metadata": {},
   "source": [
    "Running SVM, we get the mean accuracy of 0.932"
   ]
  },
  {
   "cell_type": "markdown",
   "id": "8702f116",
   "metadata": {},
   "source": [
    "#### Nueral Network"
   ]
  },
  {
   "cell_type": "code",
   "execution_count": 115,
   "id": "9d2f1ff9",
   "metadata": {},
   "outputs": [],
   "source": [
    "# set up the svm model and the different hyper parameters\n",
    "nn = MLPClassifier()\n",
    "nnc_grid = {\n",
    "    'hidden_layer_sizes': [(30,30,30), (30,60,30), (100,)],\n",
    "    'activation': ['tanh', 'relu'],\n",
    "    'alpha': [0.0001, 0.05]}"
   ]
  },
  {
   "cell_type": "code",
   "execution_count": 162,
   "id": "52442dc2",
   "metadata": {},
   "outputs": [],
   "source": [
    "# using RandomizedSearchCV for hyper parameter tuning \n",
    "nn_clf = RandomizedSearchCV(nn, param_distributions=nnc_grid, random_state=10,\n",
    "                              scoring = scoring, cv=inner_cv)"
   ]
  },
  {
   "cell_type": "code",
   "execution_count": 163,
   "id": "471a25fd",
   "metadata": {},
   "outputs": [
    {
     "data": {
      "text/plain": [
       "0.944836956521739"
      ]
     },
     "execution_count": 163,
     "metadata": {},
     "output_type": "execute_result"
    }
   ],
   "source": [
    "# Nested CV with parameter optimization\n",
    "nn_score = cross_val_score(nn_clf, X=Xs_train, y=ys_train, cv=outer_cv)\n",
    "nn_score\n",
    "nn_score.mean()"
   ]
  },
  {
   "cell_type": "markdown",
   "id": "7e3fc05d",
   "metadata": {},
   "source": [
    "Running the neural network classifier model, we get accuracy score of 0.945"
   ]
  },
  {
   "cell_type": "markdown",
   "id": "13bb4ec5",
   "metadata": {},
   "source": [
    "#### Ensemble Model - Random Forest"
   ]
  },
  {
   "cell_type": "code",
   "execution_count": 212,
   "id": "0cb2bd55",
   "metadata": {},
   "outputs": [],
   "source": [
    "# set up the regression tree model\n",
    "rfc = RandomForestClassifier(class_weight = 'balanced')\n",
    "\n",
    "# set up the param_grid\n",
    "rfc_grid = {'criterion':['gini', 'entropy', 'log_loss'],\n",
    "            'max_depth':list(range(1,20)),\n",
    "            'min_samples_leaf': [5, 10, 15]}"
   ]
  },
  {
   "cell_type": "code",
   "execution_count": 213,
   "id": "79f68aa5",
   "metadata": {},
   "outputs": [],
   "source": [
    "# using RandomizedSearchCV for hyper parameter tuning \n",
    "rf_clf = RandomizedSearchCV(rfc, param_distributions=rfc_grid, n_iter = 5, scoring = scoring, random_state = 24,\n",
    "                             n_jobs = -1, cv=inner_cv)"
   ]
  },
  {
   "cell_type": "code",
   "execution_count": 214,
   "id": "4156f371",
   "metadata": {},
   "outputs": [
    {
     "data": {
      "text/plain": [
       "0.94375"
      ]
     },
     "execution_count": 214,
     "metadata": {},
     "output_type": "execute_result"
    }
   ],
   "source": [
    "# Nested CV with parameter optimization\n",
    "rf_clf_score = cross_val_score(rf_clf, X=Xs_train, y=ys_train, cv=outer_cv)\n",
    "rf_clf_score\n",
    "rf_clf_score.mean()"
   ]
  },
  {
   "cell_type": "markdown",
   "id": "c00200db",
   "metadata": {},
   "source": [
    "Running the ensemble model random forest, we get accuracy score of 0.943."
   ]
  },
  {
   "cell_type": "markdown",
   "id": "c2c28a6d",
   "metadata": {},
   "source": [
    "Comparing performance of logistics regression, decision tree, knn, svm, nerural network, and ensemble model (ranfom forest), neural network classifier has the best performance with highest accuracy of 0.945. Thus, I will now retrain the model and optimize the hyperparameter."
   ]
  },
  {
   "cell_type": "markdown",
   "id": "1341969c",
   "metadata": {},
   "source": [
    "#### 5.1.2 Optimize Hyperparameter and Model Evaluation"
   ]
  },
  {
   "cell_type": "code",
   "execution_count": 691,
   "id": "a930fa1f",
   "metadata": {},
   "outputs": [
    {
     "data": {
      "text/html": [
       "<style>#sk-container-id-14 {color: black;background-color: white;}#sk-container-id-14 pre{padding: 0;}#sk-container-id-14 div.sk-toggleable {background-color: white;}#sk-container-id-14 label.sk-toggleable__label {cursor: pointer;display: block;width: 100%;margin-bottom: 0;padding: 0.3em;box-sizing: border-box;text-align: center;}#sk-container-id-14 label.sk-toggleable__label-arrow:before {content: \"▸\";float: left;margin-right: 0.25em;color: #696969;}#sk-container-id-14 label.sk-toggleable__label-arrow:hover:before {color: black;}#sk-container-id-14 div.sk-estimator:hover label.sk-toggleable__label-arrow:before {color: black;}#sk-container-id-14 div.sk-toggleable__content {max-height: 0;max-width: 0;overflow: hidden;text-align: left;background-color: #f0f8ff;}#sk-container-id-14 div.sk-toggleable__content pre {margin: 0.2em;color: black;border-radius: 0.25em;background-color: #f0f8ff;}#sk-container-id-14 input.sk-toggleable__control:checked~div.sk-toggleable__content {max-height: 200px;max-width: 100%;overflow: auto;}#sk-container-id-14 input.sk-toggleable__control:checked~label.sk-toggleable__label-arrow:before {content: \"▾\";}#sk-container-id-14 div.sk-estimator input.sk-toggleable__control:checked~label.sk-toggleable__label {background-color: #d4ebff;}#sk-container-id-14 div.sk-label input.sk-toggleable__control:checked~label.sk-toggleable__label {background-color: #d4ebff;}#sk-container-id-14 input.sk-hidden--visually {border: 0;clip: rect(1px 1px 1px 1px);clip: rect(1px, 1px, 1px, 1px);height: 1px;margin: -1px;overflow: hidden;padding: 0;position: absolute;width: 1px;}#sk-container-id-14 div.sk-estimator {font-family: monospace;background-color: #f0f8ff;border: 1px dotted black;border-radius: 0.25em;box-sizing: border-box;margin-bottom: 0.5em;}#sk-container-id-14 div.sk-estimator:hover {background-color: #d4ebff;}#sk-container-id-14 div.sk-parallel-item::after {content: \"\";width: 100%;border-bottom: 1px solid gray;flex-grow: 1;}#sk-container-id-14 div.sk-label:hover label.sk-toggleable__label {background-color: #d4ebff;}#sk-container-id-14 div.sk-serial::before {content: \"\";position: absolute;border-left: 1px solid gray;box-sizing: border-box;top: 0;bottom: 0;left: 50%;z-index: 0;}#sk-container-id-14 div.sk-serial {display: flex;flex-direction: column;align-items: center;background-color: white;padding-right: 0.2em;padding-left: 0.2em;position: relative;}#sk-container-id-14 div.sk-item {position: relative;z-index: 1;}#sk-container-id-14 div.sk-parallel {display: flex;align-items: stretch;justify-content: center;background-color: white;position: relative;}#sk-container-id-14 div.sk-item::before, #sk-container-id-14 div.sk-parallel-item::before {content: \"\";position: absolute;border-left: 1px solid gray;box-sizing: border-box;top: 0;bottom: 0;left: 50%;z-index: -1;}#sk-container-id-14 div.sk-parallel-item {display: flex;flex-direction: column;z-index: 1;position: relative;background-color: white;}#sk-container-id-14 div.sk-parallel-item:first-child::after {align-self: flex-end;width: 50%;}#sk-container-id-14 div.sk-parallel-item:last-child::after {align-self: flex-start;width: 50%;}#sk-container-id-14 div.sk-parallel-item:only-child::after {width: 0;}#sk-container-id-14 div.sk-dashed-wrapped {border: 1px dashed gray;margin: 0 0.4em 0.5em 0.4em;box-sizing: border-box;padding-bottom: 0.4em;background-color: white;}#sk-container-id-14 div.sk-label label {font-family: monospace;font-weight: bold;display: inline-block;line-height: 1.2em;}#sk-container-id-14 div.sk-label-container {text-align: center;}#sk-container-id-14 div.sk-container {/* jupyter's `normalize.less` sets `[hidden] { display: none; }` but bootstrap.min.css set `[hidden] { display: none !important; }` so we also need the `!important` here to be able to override the default hidden behavior on the sphinx rendered scikit-learn.org. See: https://github.com/scikit-learn/scikit-learn/issues/21755 */display: inline-block !important;position: relative;}#sk-container-id-14 div.sk-text-repr-fallback {display: none;}</style><div id=\"sk-container-id-14\" class=\"sk-top-container\"><div class=\"sk-text-repr-fallback\"><pre>RandomizedSearchCV(cv=6, estimator=MLPClassifier(),\n",
       "                   param_distributions={&#x27;activation&#x27;: [&#x27;tanh&#x27;, &#x27;relu&#x27;],\n",
       "                                        &#x27;alpha&#x27;: [0.0001, 0.05],\n",
       "                                        &#x27;hidden_layer_sizes&#x27;: [(30, 30, 30),\n",
       "                                                               (30, 60, 30),\n",
       "                                                               (100,)]},\n",
       "                   random_state=10, scoring=&#x27;accuracy&#x27;)</pre><b>In a Jupyter environment, please rerun this cell to show the HTML representation or trust the notebook. <br />On GitHub, the HTML representation is unable to render, please try loading this page with nbviewer.org.</b></div><div class=\"sk-container\" hidden><div class=\"sk-item sk-dashed-wrapped\"><div class=\"sk-label-container\"><div class=\"sk-label sk-toggleable\"><input class=\"sk-toggleable__control sk-hidden--visually\" id=\"sk-estimator-id-40\" type=\"checkbox\" ><label for=\"sk-estimator-id-40\" class=\"sk-toggleable__label sk-toggleable__label-arrow\">RandomizedSearchCV</label><div class=\"sk-toggleable__content\"><pre>RandomizedSearchCV(cv=6, estimator=MLPClassifier(),\n",
       "                   param_distributions={&#x27;activation&#x27;: [&#x27;tanh&#x27;, &#x27;relu&#x27;],\n",
       "                                        &#x27;alpha&#x27;: [0.0001, 0.05],\n",
       "                                        &#x27;hidden_layer_sizes&#x27;: [(30, 30, 30),\n",
       "                                                               (30, 60, 30),\n",
       "                                                               (100,)]},\n",
       "                   random_state=10, scoring=&#x27;accuracy&#x27;)</pre></div></div></div><div class=\"sk-parallel\"><div class=\"sk-parallel-item\"><div class=\"sk-item\"><div class=\"sk-label-container\"><div class=\"sk-label sk-toggleable\"><input class=\"sk-toggleable__control sk-hidden--visually\" id=\"sk-estimator-id-41\" type=\"checkbox\" ><label for=\"sk-estimator-id-41\" class=\"sk-toggleable__label sk-toggleable__label-arrow\">estimator: MLPClassifier</label><div class=\"sk-toggleable__content\"><pre>MLPClassifier()</pre></div></div></div><div class=\"sk-serial\"><div class=\"sk-item\"><div class=\"sk-estimator sk-toggleable\"><input class=\"sk-toggleable__control sk-hidden--visually\" id=\"sk-estimator-id-42\" type=\"checkbox\" ><label for=\"sk-estimator-id-42\" class=\"sk-toggleable__label sk-toggleable__label-arrow\">MLPClassifier</label><div class=\"sk-toggleable__content\"><pre>MLPClassifier()</pre></div></div></div></div></div></div></div></div></div></div>"
      ],
      "text/plain": [
       "RandomizedSearchCV(cv=6, estimator=MLPClassifier(),\n",
       "                   param_distributions={'activation': ['tanh', 'relu'],\n",
       "                                        'alpha': [0.0001, 0.05],\n",
       "                                        'hidden_layer_sizes': [(30, 30, 30),\n",
       "                                                               (30, 60, 30),\n",
       "                                                               (100,)]},\n",
       "                   random_state=10, scoring='accuracy')"
      ]
     },
     "execution_count": 691,
     "metadata": {},
     "output_type": "execute_result"
    }
   ],
   "source": [
    "# Split data into training and testing \n",
    "Xs_train, Xs_test, ys_train, ys_test = train_test_split(Xs,ys, test_size=0.2, random_state = 12)\n",
    "\n",
    "# set up the nn classifier model and the different hyper parameters\n",
    "nn = MLPClassifier()\n",
    "\n",
    "nnc_grid = {'hidden_layer_sizes': [(30,30,30), (30,60,30), (100,)],\n",
    "    'activation': ['tanh', 'relu'],\n",
    "    'alpha': [0.0001, 0.05]}\n",
    "\n",
    "nn_clf = RandomizedSearchCV(nn, param_distributions=nnc_grid, random_state=10,\n",
    "                              scoring = scoring, cv=6)\n",
    "nn_clf.fit(Xs_train, ys_train)\n"
   ]
  },
  {
   "cell_type": "code",
   "execution_count": 692,
   "id": "53eedce5",
   "metadata": {},
   "outputs": [
    {
     "name": "stdout",
     "output_type": "stream",
     "text": [
      "Accuracy: \n",
      " 0.947558154569914\n",
      "{'hidden_layer_sizes': (100,), 'alpha': 0.05, 'activation': 'tanh'}\n",
      "MLPClassifier(activation='tanh', alpha=0.05)\n"
     ]
    }
   ],
   "source": [
    "print (\"Accuracy: \\n\",nn_clf.best_score_)\n",
    "print (nn_clf.best_params_)\n",
    "print (nn_clf.best_estimator_)"
   ]
  },
  {
   "cell_type": "code",
   "execution_count": 693,
   "id": "27a37fac",
   "metadata": {},
   "outputs": [
    {
     "name": "stdout",
     "output_type": "stream",
     "text": [
      "Classification Report: \n",
      "               precision    recall  f1-score   support\n",
      "\n",
      "           0       0.96      0.97      0.96       578\n",
      "           1       0.94      0.92      0.93       343\n",
      "\n",
      "    accuracy                           0.95       921\n",
      "   macro avg       0.95      0.95      0.95       921\n",
      "weighted avg       0.95      0.95      0.95       921\n",
      "\n",
      "Prediction Accuracy:  0.9511400651465798\n"
     ]
    }
   ],
   "source": [
    "# Obtained the best estimator: MLPClassifier{'hidden_layer_sizes': (100,), 'alpha': 0.05, 'activation': 'tanh'}\n",
    "\n",
    "# Now we can evaluate the model performance with test data\n",
    "clf_nn = nn_clf.best_estimator_\n",
    "\n",
    "nn_pred_test = clf_nn.predict(Xs_test)\n",
    "\n",
    "print(\"Classification Report: \\n\",classification_report(ys_test, nn_pred_test))\n",
    "print(\"Prediction Accuracy: \", accuracy_score(ys_test, nn_pred_test))"
   ]
  },
  {
   "cell_type": "code",
   "execution_count": 694,
   "id": "073a00d4",
   "metadata": {},
   "outputs": [
    {
     "name": "stdout",
     "output_type": "stream",
     "text": [
      "Confusion Matrix: \n",
      " [[559  19]\n",
      " [ 26 317]]\n"
     ]
    }
   ],
   "source": [
    "print(\"Confusion Matrix: \\n\", confusion_matrix(ys_test, nn_pred_test))"
   ]
  },
  {
   "cell_type": "code",
   "execution_count": 695,
   "id": "be93229a",
   "metadata": {},
   "outputs": [
    {
     "data": {
      "image/png": "[encoded data removed]",
      "text/plain": [
       "<Figure size 432x288 with 2 Axes>"
      ]
     },
     "metadata": {
      "needs_background": "light"
     },
     "output_type": "display_data"
    }
   ],
   "source": [
    "# confusion matrix\n",
    "from sklearn.metrics import plot_confusion_matrix\n",
    "\n",
    "X, y = make_classification()\n",
    "\n",
    "plot_confusion_matrix(clf_nn, Xs_test, ys_test, cmap=plt.cm.Blues)\n",
    "plt.show()"
   ]
  },
  {
   "cell_type": "code",
   "execution_count": 696,
   "id": "1a8d6502",
   "metadata": {},
   "outputs": [
    {
     "name": "stdout",
     "output_type": "stream",
     "text": [
      "0.945663139205262\n"
     ]
    },
    {
     "data": {
      "image/png": "[encoded data removed]",
      "text/plain": [
       "<Figure size 576x432 with 1 Axes>"
      ]
     },
     "metadata": {
      "needs_background": "light"
     },
     "output_type": "display_data"
    }
   ],
   "source": [
    "# ROC curve\n",
    "from sklearn.metrics import roc_curve, auc\n",
    "from sklearn.preprocessing import label_binarize\n",
    "from sklearn.metrics import roc_auc_score\n",
    "\n",
    "fpr = dict()\n",
    "tpr = dict()\n",
    "roc_auc = dict()\n",
    "for i in range(2):\n",
    "    fpr[i], tpr[i], _ = roc_curve(ys_test, nn_pred_test)\n",
    "    roc_auc[i] = auc(fpr[i], tpr[i])\n",
    "\n",
    "print(roc_auc_score(ys_test, nn_pred_test))\n",
    "plt.figure(figsize=(8, 6))\n",
    "plt.plot(fpr[1], tpr[1])\n",
    "plt.plot([0,1],[0,1], '--', color = 'orange', label ='baseline')\n",
    "plt.xlim([0.0, 1.0])\n",
    "plt.ylim([0.0, 1.05])\n",
    "plt.xlabel('False Positive Rate')\n",
    "plt.ylabel('True Positive Rate')\n",
    "plt.title('ROC Curve')\n",
    "plt.show()"
   ]
  },
  {
   "cell_type": "code",
   "execution_count": 697,
   "id": "c69d56de",
   "metadata": {},
   "outputs": [
    {
     "data": {
      "image/png": "[encoded data removed]",
      "text/plain": [
       "<Figure size 576x432 with 1 Axes>"
      ]
     },
     "metadata": {
      "needs_background": "light"
     },
     "output_type": "display_data"
    }
   ],
   "source": [
    "# Lift curve\n",
    "\n",
    "pred1 = clf_nn.predict_proba(Xs_test)\n",
    "import scikitplot as skplt\n",
    "\n",
    "skplt.metrics.plot_lift_curve(\n",
    "    ys_test, pred1, figsize=(8, 6),\n",
    ")\n",
    "plt.show()"
   ]
  },
  {
   "cell_type": "markdown",
   "id": "209b26b0",
   "metadata": {},
   "source": [
    "The best estimator of the model is: MLPClassifier{'hidden_layer_sizes': (100,), 'alpha': 0.05, 'activation': 'tanh'}\n",
    "\n",
    "Evaulating the performance of the neural network model with its best estimator, the model performs very well with accuracy of 0.951. We also obtained a 92% recall and 94% precision for class 'spam' and 97% precision and 96% recall for class 'non-spam'. Looking at the confusion Matrix, fn is 26, and fp is 19, which meaning there are more spam email being misclassified as normal email, than normal email being misclassified as spam email, and the misclassifying cost is 279.\n",
    "\n",
    "From the ROC curve of the final model rsult, we also see that the curve is very close to the top left corner and the area below the curve is 0.946, which is close to one and well performed.\n",
    "\n",
    "As for the lift curve, both curves indicated that the model is doing much better than random guess (baseline).\n",
    "\n",
    "Overall, the model performance is pretty good."
   ]
  },
  {
   "cell_type": "markdown",
   "id": "6d3a44b6",
   "metadata": {},
   "source": [
    "###  Objective 2. Considering Misclassifying cost"
   ]
  },
  {
   "cell_type": "markdown",
   "id": "4b12b103",
   "metadata": {},
   "source": [
    "#### 5.2.1 Model Selection"
   ]
  },
  {
   "cell_type": "code",
   "execution_count": 612,
   "id": "846b86b3",
   "metadata": {},
   "outputs": [],
   "source": [
    "# define misclassifying score for gridsearch\n",
    "from sklearn.metrics import confusion_matrix, make_scorer\n",
    "\n",
    "def misclassifying_cost(y_true, y_pred):\n",
    "    tn, fp, fn, tp = confusion_matrix(y_true, y_pred).ravel()\n",
    "    cost = fn*10 + fp*1\n",
    "    return cost\n",
    "\n",
    "score = make_scorer(misclassifying_cost, greater_is_better=False)"
   ]
  },
  {
   "cell_type": "markdown",
   "id": "ebb2c74c",
   "metadata": {},
   "source": [
    "#### Logistic Regression"
   ]
  },
  {
   "cell_type": "code",
   "execution_count": 613,
   "id": "32ecb42f",
   "metadata": {},
   "outputs": [],
   "source": [
    "# set up the logistic regression model and the different hyper parameters\n",
    "lr_grid = {'C':[0.001, 0.01, 0.1, 1, 10, 100, 1000],\n",
    "        'penalty':['l1','l2', 'none']}\n",
    "lr = linear_model.LogisticRegression(class_weight = 'balanced') "
   ]
  },
  {
   "cell_type": "code",
   "execution_count": 614,
   "id": "fd2b91bc",
   "metadata": {},
   "outputs": [],
   "source": [
    "# Non_nested parameter search and scoring\n",
    "lr_clf= GridSearchCV(estimator=lr, param_grid=lr_grid, scoring=score, cv=inner_cv)"
   ]
  },
  {
   "cell_type": "code",
   "execution_count": 615,
   "id": "120e2b47",
   "metadata": {},
   "outputs": [],
   "source": [
    "# define the pipeline for normalization and avoid data leakage\n",
    "steps = list()\n",
    "steps.append(('scaler', StandardScaler()))\n",
    "steps.append(('model', lr_clf))\n",
    "pipeline = Pipeline(steps=steps)"
   ]
  },
  {
   "cell_type": "code",
   "execution_count": 616,
   "id": "00006385",
   "metadata": {},
   "outputs": [
    {
     "data": {
      "text/plain": [
       "-262.6"
      ]
     },
     "execution_count": 616,
     "metadata": {},
     "output_type": "execute_result"
    }
   ],
   "source": [
    "# Nested CV with parameter optimization \n",
    "lr_score = cross_val_score(pipeline, Xs_train, y=ys_train, cv=outer_cv)\n",
    "lr_score.mean()"
   ]
  },
  {
   "cell_type": "markdown",
   "id": "2d2478e5",
   "metadata": {},
   "source": [
    "Running Logistic Regression, we get a mean misclassifying cost of 262.6."
   ]
  },
  {
   "cell_type": "markdown",
   "id": "913e79eb",
   "metadata": {},
   "source": [
    "#### Decision Tree"
   ]
  },
  {
   "cell_type": "code",
   "execution_count": 617,
   "id": "3235bd83",
   "metadata": {},
   "outputs": [
    {
     "data": {
      "text/plain": [
       "-360.8"
      ]
     },
     "execution_count": 617,
     "metadata": {},
     "output_type": "execute_result"
    }
   ],
   "source": [
    "# set up the decision tree model and the different hyper parameters\n",
    "dt = DecisionTreeClassifier(class_weight = 'balanced')\n",
    "\n",
    "# define the dt_grid\n",
    "dt_grid = {\n",
    "        'max_depth':list(range(1,16)),\n",
    "        'min_samples_leaf': [5, 10, 15],\n",
    "        'criterion': [\"gini\", \"entropy\"]\n",
    "}\n",
    "\n",
    "# Non_nested parameter search and scoring\n",
    "dt_clf1 = GridSearchCV(estimator=dt, param_grid=dt_grid, scoring = score, cv=inner_cv)\n",
    "\n",
    "# Nested CV with parameter optimization\n",
    "dt1_score = cross_val_score(dt_clf1, X=Xs_train, y=ys_train, cv=outer_cv)\n",
    "dt1_score\n",
    "dt1_score.mean()"
   ]
  },
  {
   "cell_type": "markdown",
   "id": "fc0cd6d2",
   "metadata": {},
   "source": [
    "From the decesion tree model, we get a mean misclassifying cost of 360.8"
   ]
  },
  {
   "cell_type": "markdown",
   "id": "44a0a561",
   "metadata": {},
   "source": [
    "#### KNN"
   ]
  },
  {
   "cell_type": "code",
   "execution_count": 618,
   "id": "399143eb",
   "metadata": {},
   "outputs": [
    {
     "data": {
      "text/plain": [
       "-357.8"
      ]
     },
     "execution_count": 618,
     "metadata": {},
     "output_type": "execute_result"
    }
   ],
   "source": [
    "# set up the knn model and the different hyper parameters\n",
    "k_range = list(range(1,31))\n",
    "weight_options = [\"uniform\", \"distance\"]\n",
    "knn_grid = dict(n_neighbors = k_range, weights = weight_options)\n",
    "\n",
    "knn = KNeighborsClassifier()\n",
    "\n",
    "# Non_nested parameter search and scoring\n",
    "knn_clf1 =  GridSearchCV(estimator=knn, param_grid=knn_grid, scoring = score, cv=inner_cv)\n",
    "\n",
    "# define the pipeline for normalization and avoid data leakage\n",
    "steps = list()\n",
    "steps.append(('scaler', StandardScaler()))\n",
    "steps.append(('model', knn_clf1))\n",
    "pipeline = Pipeline(steps=steps)\n",
    "\n",
    "# Nested CV with parameter optimization \n",
    "knn1_score = cross_val_score(pipeline, X=Xs_train, y=ys_train, cv=outer_cv)\n",
    "knn1_score.mean()"
   ]
  },
  {
   "cell_type": "markdown",
   "id": "663d77ce",
   "metadata": {},
   "source": [
    "From the knn model, we get a mean misclassifying cost of 357.8"
   ]
  },
  {
   "cell_type": "markdown",
   "id": "4cab5d30",
   "metadata": {},
   "source": [
    "#### SVM"
   ]
  },
  {
   "cell_type": "code",
   "execution_count": 621,
   "id": "04fc3c29",
   "metadata": {},
   "outputs": [
    {
     "data": {
      "text/plain": [
       "-288.8"
      ]
     },
     "execution_count": 621,
     "metadata": {},
     "output_type": "execute_result"
    }
   ],
   "source": [
    "# set up the logistic regression model and the different hyper parameters\n",
    "svm_grid = [{'kernel': ['rbf'], 'gamma': [1e2, 1e1, 1, 1e-2, 1e-3, 1e-4],\n",
    "                     'C': [1, 10, 100, 1000]},\n",
    "                    {'kernel': ['linear'], 'C': [1, 10, 100, 1000]}]\n",
    "svm = SVC(class_weight = 'balanced')\n",
    "\n",
    "\n",
    "# Non_nested parameter search and scoring\n",
    "svm_clf1 = RandomizedSearchCV(estimator=svm, param_distributions=svm_grid, n_iter = 6, \n",
    "                             random_state=12, scoring = score, cv=inner_cv)\n",
    "\n",
    "# define the pipeline for normalization and avoid data leakage\n",
    "steps = list()\n",
    "steps.append(('scaler', StandardScaler()))\n",
    "steps.append(('model', svm_clf1))\n",
    "pipeline = Pipeline(steps=steps)\n",
    "\n",
    "# Nested CV with parameter optimization \n",
    "svm_score1 = cross_val_score(pipeline, Xs_train, y=ys_train, cv=outer_cv)\n",
    "svm_score1.mean()"
   ]
  },
  {
   "cell_type": "markdown",
   "id": "ad00a255",
   "metadata": {},
   "source": [
    "From the SVM model, we get a mean misclassifying cost of 288.8."
   ]
  },
  {
   "cell_type": "markdown",
   "id": "0b0f878e",
   "metadata": {},
   "source": [
    "#### Neural Network"
   ]
  },
  {
   "cell_type": "code",
   "execution_count": 630,
   "id": "a998fd15",
   "metadata": {},
   "outputs": [],
   "source": [
    "# set up the svm model and the different hyper parameters\n",
    "nn = MLPClassifier()\n",
    "nnc_grid = {\n",
    "    'hidden_layer_sizes': [(30,30,30), (30,60,30), (100,)],\n",
    "    'activation': ['tanh', 'relu'],\n",
    "    'alpha': [0.0001, 0.05]}"
   ]
  },
  {
   "cell_type": "code",
   "execution_count": 637,
   "id": "a425c463",
   "metadata": {},
   "outputs": [],
   "source": [
    "# using RandomizedSearchCV for hyper parameter tuning \n",
    "nn_clf = RandomizedSearchCV(nn, param_distributions=nnc_grid, random_state=24,\n",
    "                              scoring = score, cv=inner_cv)"
   ]
  },
  {
   "cell_type": "code",
   "execution_count": 638,
   "id": "58c43194",
   "metadata": {},
   "outputs": [
    {
     "data": {
      "text/plain": [
       "-201.8"
      ]
     },
     "execution_count": 638,
     "metadata": {},
     "output_type": "execute_result"
    }
   ],
   "source": [
    "# Nested CV with parameter optimization\n",
    "nn_score = cross_val_score(nn_clf, X=Xs_train, y=ys_train, cv=outer_cv)\n",
    "nn_score\n",
    "nn_score.mean()"
   ]
  },
  {
   "cell_type": "markdown",
   "id": "2a5f210b",
   "metadata": {},
   "source": [
    "From the neural network classifier model, we get a mean misclassifying cost of 201.8"
   ]
  },
  {
   "cell_type": "markdown",
   "id": "121a62e2",
   "metadata": {},
   "source": [
    "#### Ensemble Model - Random Forest"
   ]
  },
  {
   "cell_type": "code",
   "execution_count": 626,
   "id": "e3bbfb32",
   "metadata": {},
   "outputs": [
    {
     "data": {
      "text/plain": [
       "-249.4"
      ]
     },
     "execution_count": 626,
     "metadata": {},
     "output_type": "execute_result"
    }
   ],
   "source": [
    "# set up the regression tree model\n",
    "rfc = RandomForestClassifier(class_weight = 'balanced')\n",
    "\n",
    "# set up the param_grid\n",
    "rfc_grid = {'criterion':['gini', 'entropy', 'log_loss'],\n",
    "            'max_depth':list(range(1,20)),\n",
    "            'min_samples_leaf': [5, 10, 15]}\n",
    "\n",
    "# using RandomizedSearchCV for hyper parameter tuning \n",
    "rf_clf1 = RandomizedSearchCV(rfc, param_distributions=rfc_grid, n_iter = 5, scoring = score, random_state = 24,\n",
    "                             n_jobs = -1, cv=10)\n",
    "\n",
    "# Nested CV with parameter optimization\n",
    "rfc1_score = cross_val_score(rf_clf1, X=Xs_train, y=ys_train, cv=outer_cv)\n",
    "rfc1_score\n",
    "rfc1_score.mean()"
   ]
  },
  {
   "cell_type": "markdown",
   "id": "b210d853",
   "metadata": {},
   "source": [
    "For ensemble model Random Forest, we get a mean misclassifying cost of 249.4."
   ]
  },
  {
   "cell_type": "markdown",
   "id": "28fbf680",
   "metadata": {},
   "source": [
    "Comparing all models, neural network classifier has the best performance with lowest misclassifying cost of 201.8. Thus, I will now retrain the model and optimize the hyperparameter."
   ]
  },
  {
   "cell_type": "markdown",
   "id": "4972b882",
   "metadata": {},
   "source": [
    "#### 5.2.2 Optimize Hyperparameter and Model Evaluation"
   ]
  },
  {
   "cell_type": "code",
   "execution_count": 649,
   "id": "4732cde7",
   "metadata": {},
   "outputs": [
    {
     "data": {
      "text/html": [
       "<style>#sk-container-id-4 {color: black;background-color: white;}#sk-container-id-4 pre{padding: 0;}#sk-container-id-4 div.sk-toggleable {background-color: white;}#sk-container-id-4 label.sk-toggleable__label {cursor: pointer;display: block;width: 100%;margin-bottom: 0;padding: 0.3em;box-sizing: border-box;text-align: center;}#sk-container-id-4 label.sk-toggleable__label-arrow:before {content: \"▸\";float: left;margin-right: 0.25em;color: #696969;}#sk-container-id-4 label.sk-toggleable__label-arrow:hover:before {color: black;}#sk-container-id-4 div.sk-estimator:hover label.sk-toggleable__label-arrow:before {color: black;}#sk-container-id-4 div.sk-toggleable__content {max-height: 0;max-width: 0;overflow: hidden;text-align: left;background-color: #f0f8ff;}#sk-container-id-4 div.sk-toggleable__content pre {margin: 0.2em;color: black;border-radius: 0.25em;background-color: #f0f8ff;}#sk-container-id-4 input.sk-toggleable__control:checked~div.sk-toggleable__content {max-height: 200px;max-width: 100%;overflow: auto;}#sk-container-id-4 input.sk-toggleable__control:checked~label.sk-toggleable__label-arrow:before {content: \"▾\";}#sk-container-id-4 div.sk-estimator input.sk-toggleable__control:checked~label.sk-toggleable__label {background-color: #d4ebff;}#sk-container-id-4 div.sk-label input.sk-toggleable__control:checked~label.sk-toggleable__label {background-color: #d4ebff;}#sk-container-id-4 input.sk-hidden--visually {border: 0;clip: rect(1px 1px 1px 1px);clip: rect(1px, 1px, 1px, 1px);height: 1px;margin: -1px;overflow: hidden;padding: 0;position: absolute;width: 1px;}#sk-container-id-4 div.sk-estimator {font-family: monospace;background-color: #f0f8ff;border: 1px dotted black;border-radius: 0.25em;box-sizing: border-box;margin-bottom: 0.5em;}#sk-container-id-4 div.sk-estimator:hover {background-color: #d4ebff;}#sk-container-id-4 div.sk-parallel-item::after {content: \"\";width: 100%;border-bottom: 1px solid gray;flex-grow: 1;}#sk-container-id-4 div.sk-label:hover label.sk-toggleable__label {background-color: #d4ebff;}#sk-container-id-4 div.sk-serial::before {content: \"\";position: absolute;border-left: 1px solid gray;box-sizing: border-box;top: 0;bottom: 0;left: 50%;z-index: 0;}#sk-container-id-4 div.sk-serial {display: flex;flex-direction: column;align-items: center;background-color: white;padding-right: 0.2em;padding-left: 0.2em;position: relative;}#sk-container-id-4 div.sk-item {position: relative;z-index: 1;}#sk-container-id-4 div.sk-parallel {display: flex;align-items: stretch;justify-content: center;background-color: white;position: relative;}#sk-container-id-4 div.sk-item::before, #sk-container-id-4 div.sk-parallel-item::before {content: \"\";position: absolute;border-left: 1px solid gray;box-sizing: border-box;top: 0;bottom: 0;left: 50%;z-index: -1;}#sk-container-id-4 div.sk-parallel-item {display: flex;flex-direction: column;z-index: 1;position: relative;background-color: white;}#sk-container-id-4 div.sk-parallel-item:first-child::after {align-self: flex-end;width: 50%;}#sk-container-id-4 div.sk-parallel-item:last-child::after {align-self: flex-start;width: 50%;}#sk-container-id-4 div.sk-parallel-item:only-child::after {width: 0;}#sk-container-id-4 div.sk-dashed-wrapped {border: 1px dashed gray;margin: 0 0.4em 0.5em 0.4em;box-sizing: border-box;padding-bottom: 0.4em;background-color: white;}#sk-container-id-4 div.sk-label label {font-family: monospace;font-weight: bold;display: inline-block;line-height: 1.2em;}#sk-container-id-4 div.sk-label-container {text-align: center;}#sk-container-id-4 div.sk-container {/* jupyter's `normalize.less` sets `[hidden] { display: none; }` but bootstrap.min.css set `[hidden] { display: none !important; }` so we also need the `!important` here to be able to override the default hidden behavior on the sphinx rendered scikit-learn.org. See: https://github.com/scikit-learn/scikit-learn/issues/21755 */display: inline-block !important;position: relative;}#sk-container-id-4 div.sk-text-repr-fallback {display: none;}</style><div id=\"sk-container-id-4\" class=\"sk-top-container\"><div class=\"sk-text-repr-fallback\"><pre>RandomizedSearchCV(cv=6, estimator=MLPClassifier(),\n",
       "                   param_distributions={&#x27;activation&#x27;: [&#x27;tanh&#x27;, &#x27;relu&#x27;],\n",
       "                                        &#x27;alpha&#x27;: [0.0001, 0.05],\n",
       "                                        &#x27;hidden_layer_sizes&#x27;: [(30, 30, 30),\n",
       "                                                               (30, 60, 30),\n",
       "                                                               (100,)]},\n",
       "                   random_state=24,\n",
       "                   scoring=make_scorer(misclassifying_cost, greater_is_better=False))</pre><b>In a Jupyter environment, please rerun this cell to show the HTML representation or trust the notebook. <br />On GitHub, the HTML representation is unable to render, please try loading this page with nbviewer.org.</b></div><div class=\"sk-container\" hidden><div class=\"sk-item sk-dashed-wrapped\"><div class=\"sk-label-container\"><div class=\"sk-label sk-toggleable\"><input class=\"sk-toggleable__control sk-hidden--visually\" id=\"sk-estimator-id-10\" type=\"checkbox\" ><label for=\"sk-estimator-id-10\" class=\"sk-toggleable__label sk-toggleable__label-arrow\">RandomizedSearchCV</label><div class=\"sk-toggleable__content\"><pre>RandomizedSearchCV(cv=6, estimator=MLPClassifier(),\n",
       "                   param_distributions={&#x27;activation&#x27;: [&#x27;tanh&#x27;, &#x27;relu&#x27;],\n",
       "                                        &#x27;alpha&#x27;: [0.0001, 0.05],\n",
       "                                        &#x27;hidden_layer_sizes&#x27;: [(30, 30, 30),\n",
       "                                                               (30, 60, 30),\n",
       "                                                               (100,)]},\n",
       "                   random_state=24,\n",
       "                   scoring=make_scorer(misclassifying_cost, greater_is_better=False))</pre></div></div></div><div class=\"sk-parallel\"><div class=\"sk-parallel-item\"><div class=\"sk-item\"><div class=\"sk-label-container\"><div class=\"sk-label sk-toggleable\"><input class=\"sk-toggleable__control sk-hidden--visually\" id=\"sk-estimator-id-11\" type=\"checkbox\" ><label for=\"sk-estimator-id-11\" class=\"sk-toggleable__label sk-toggleable__label-arrow\">estimator: MLPClassifier</label><div class=\"sk-toggleable__content\"><pre>MLPClassifier()</pre></div></div></div><div class=\"sk-serial\"><div class=\"sk-item\"><div class=\"sk-estimator sk-toggleable\"><input class=\"sk-toggleable__control sk-hidden--visually\" id=\"sk-estimator-id-12\" type=\"checkbox\" ><label for=\"sk-estimator-id-12\" class=\"sk-toggleable__label sk-toggleable__label-arrow\">MLPClassifier</label><div class=\"sk-toggleable__content\"><pre>MLPClassifier()</pre></div></div></div></div></div></div></div></div></div></div>"
      ],
      "text/plain": [
       "RandomizedSearchCV(cv=6, estimator=MLPClassifier(),\n",
       "                   param_distributions={'activation': ['tanh', 'relu'],\n",
       "                                        'alpha': [0.0001, 0.05],\n",
       "                                        'hidden_layer_sizes': [(30, 30, 30),\n",
       "                                                               (30, 60, 30),\n",
       "                                                               (100,)]},\n",
       "                   random_state=24,\n",
       "                   scoring=make_scorer(misclassifying_cost, greater_is_better=False))"
      ]
     },
     "execution_count": 649,
     "metadata": {},
     "output_type": "execute_result"
    }
   ],
   "source": [
    "# Split data into training and testing \n",
    "Xs_train, Xs_test, ys_train, ys_test = train_test_split(Xs,ys, test_size=0.2, random_state = 1)\n",
    "\n",
    "# set up the nn classifier model and the different hyper parameters\n",
    "nn = MLPClassifier()\n",
    "\n",
    "nnc_grid = {'hidden_layer_sizes': [(30,30,30), (30,60,30), (100,)],\n",
    "    'activation': ['tanh', 'relu'],\n",
    "    'alpha': [0.0001, 0.05]}\n",
    "\n",
    "nn_clf1 = RandomizedSearchCV(nn, param_distributions=nnc_grid, random_state=24,\n",
    "                              scoring = score, cv=6)\n",
    "nn_clf1.fit(Xs_train, ys_train)\n"
   ]
  },
  {
   "cell_type": "code",
   "execution_count": 657,
   "id": "c1242acc",
   "metadata": {},
   "outputs": [
    {
     "name": "stdout",
     "output_type": "stream",
     "text": [
      "Misclassifying cost: \n",
      " -162.16666666666666\n",
      "{'hidden_layer_sizes': (100,), 'alpha': 0.05, 'activation': 'tanh'}\n",
      "MLPClassifier(activation='tanh', alpha=0.05)\n"
     ]
    }
   ],
   "source": [
    "print (\"Misclassifying cost: \\n\",nn_clf1.best_score_)\n",
    "print (nn_clf1.best_params_)\n",
    "print (nn_clf1.best_estimator_)"
   ]
  },
  {
   "cell_type": "code",
   "execution_count": 658,
   "id": "41970770",
   "metadata": {},
   "outputs": [
    {
     "name": "stdout",
     "output_type": "stream",
     "text": [
      "Classification Report: \n",
      "               precision    recall  f1-score   support\n",
      "\n",
      "           0       0.97      0.96      0.96       564\n",
      "           1       0.93      0.95      0.94       357\n",
      "\n",
      "    accuracy                           0.95       921\n",
      "   macro avg       0.95      0.95      0.95       921\n",
      "weighted avg       0.95      0.95      0.95       921\n",
      "\n",
      "Prediction Accuracy:  0.9533116178067318\n"
     ]
    }
   ],
   "source": [
    "# Obtained the best estimator: MLPClassifier{'hidden_layer_sizes': (100,), 'alpha': 0.05, 'activation': 'tanh'}\n",
    "\n",
    "# Now we can evaluate the model performance with test data\n",
    "clf_nn1 = nn_clf1.best_estimator_\n",
    "\n",
    "nn_pred_test1 = clf_nn1.predict(Xs_test)\n",
    "\n",
    "print(\"Classification Report: \\n\",classification_report(ys_test, nn_pred_test1))\n",
    "print(\"Prediction Accuracy: \", accuracy_score(ys_test, nn_pred_test1))"
   ]
  },
  {
   "cell_type": "code",
   "execution_count": 659,
   "id": "c03affd1",
   "metadata": {},
   "outputs": [
    {
     "data": {
      "image/png": "[encoded data removed]",
      "text/plain": [
       "<Figure size 432x288 with 2 Axes>"
      ]
     },
     "metadata": {
      "needs_background": "light"
     },
     "output_type": "display_data"
    }
   ],
   "source": [
    "# confusion matrix\n",
    "from sklearn.metrics import plot_confusion_matrix\n",
    "\n",
    "X, y = make_classification()\n",
    "\n",
    "plot_confusion_matrix(clf_nn1, Xs_test, ys_test, cmap=plt.cm.Blues)\n",
    "plt.show()"
   ]
  },
  {
   "cell_type": "code",
   "execution_count": 666,
   "id": "a33ecb72",
   "metadata": {},
   "outputs": [
    {
     "data": {
      "text/plain": [
       "214"
      ]
     },
     "execution_count": 666,
     "metadata": {},
     "output_type": "execute_result"
    }
   ],
   "source": [
    "misclassifying_cost(ys_test, nn_pred_test1)"
   ]
  },
  {
   "cell_type": "markdown",
   "id": "260e15f6",
   "metadata": {},
   "source": [
    "From the confusion matrix, we observed fp = 24 and fn = 19. Thus, the cost = 214."
   ]
  },
  {
   "cell_type": "code",
   "execution_count": 661,
   "id": "9f4453b0",
   "metadata": {},
   "outputs": [
    {
     "name": "stdout",
     "output_type": "stream",
     "text": [
      "0.9521127599976161\n"
     ]
    },
    {
     "data": {
      "image/png": "[encoded data removed]",
      "text/plain": [
       "<Figure size 576x432 with 1 Axes>"
      ]
     },
     "metadata": {
      "needs_background": "light"
     },
     "output_type": "display_data"
    }
   ],
   "source": [
    "# ROC curve\n",
    "from sklearn.metrics import roc_curve, auc\n",
    "from sklearn.preprocessing import label_binarize\n",
    "from sklearn.metrics import roc_auc_score\n",
    "\n",
    "fpr = dict()\n",
    "tpr = dict()\n",
    "roc_auc = dict()\n",
    "for i in range(2):\n",
    "    fpr[i], tpr[i], _ = roc_curve(ys_test, nn_pred_test1)\n",
    "    roc_auc[i] = auc(fpr[i], tpr[i])\n",
    "\n",
    "print(roc_auc_score(ys_test, nn_pred_test1))\n",
    "plt.figure(figsize=(8, 6))\n",
    "plt.plot(fpr[1], tpr[1])\n",
    "plt.plot([0,1],[0,1], '--', color = 'orange', label ='baseline')\n",
    "plt.xlim([0.0, 1.0])\n",
    "plt.ylim([0.0, 1.05])\n",
    "plt.xlabel('False Positive Rate')\n",
    "plt.ylabel('True Positive Rate')\n",
    "plt.title('ROC Curve')\n",
    "plt.show()"
   ]
  },
  {
   "cell_type": "code",
   "execution_count": 662,
   "id": "610b2bf2",
   "metadata": {},
   "outputs": [
    {
     "data": {
      "image/png": "[encoded data removed]",
      "text/plain": [
       "<Figure size 576x432 with 1 Axes>"
      ]
     },
     "metadata": {
      "needs_background": "light"
     },
     "output_type": "display_data"
    }
   ],
   "source": [
    "# Lift curve\n",
    "\n",
    "pred1 = clf_nn1.predict_proba(Xs_test)\n",
    "import scikitplot as skplt\n",
    "\n",
    "skplt.metrics.plot_lift_curve(\n",
    "    ys_test, pred1, figsize=(8, 6),\n",
    ")\n",
    "plt.show()"
   ]
  },
  {
   "cell_type": "markdown",
   "id": "f223aa4f",
   "metadata": {},
   "source": [
    "The best estimator of the model is: MLPClassifier{'hidden_layer_sizes': (100,), 'alpha': 0.05, 'activation': 'tanh'}\n",
    "\n",
    "Evaulating the performance of the neural network model with its best estimator( MLPClassifier{'hidden_layer_sizes': (100,), 'alpha': 0.0001, 'activation': 'tanh'}), the model performs very well with accuracy of 0.953. We also obtained a 95% recall and 93% precision for class 'spam' and 97% precision and 96% recall for class 'non-spam'. The recall for positive class (spam) is higher than preicison, which meet our goal to catch as many spam email as possible.\n",
    "\n",
    "In additon, looking at the confusion Matrix, fn is 19, and fp is 24, which is also well performed as misclassiying a spam email as normal email is less than misclassiyfing a non-spam email as spam. And, we also obtained a lower misclassiying cost of 214.\n",
    "\n",
    "From the ROC curve of the final model rsult, we also see that the curve is very close to the top left corner and the area below the curve is 0.95, which is close to one and well performed.\n",
    "\n",
    "As for the lift curve, both curves indicated that the model is doing much better than random guess (baseline).\n",
    "\n",
    "Overall, the model performance is robust."
   ]
  }
 ],
 "metadata": {
  "kernelspec": {
   "display_name": "Python 3 (ipykernel)",
   "language": "python",
   "name": "python3"
  },
  "language_info": {
   "codemirror_mode": {
    "name": "ipython",
    "version": 3
   },
   "file_extension": ".py",
   "mimetype": "text/x-python",
   "name": "python",
   "nbconvert_exporter": "python",
   "pygments_lexer": "ipython3",
   "version": "3.9.7"
  }
 },
 "nbformat": 4,
 "nbformat_minor": 5
}
